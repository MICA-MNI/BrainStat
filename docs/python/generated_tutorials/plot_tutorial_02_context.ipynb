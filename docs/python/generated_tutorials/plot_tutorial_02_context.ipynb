{
  "cells": [
    {
      "cell_type": "code",
      "execution_count": null,
      "metadata": {
        "collapsed": false
      },
      "outputs": [],
      "source": [
        "%matplotlib inline"
      ]
    },
    {
      "cell_type": "markdown",
      "metadata": {},
      "source": [
        "\n# Tutorial 02: Context Decoding\n\nIn this tutorial you will learn about the context decoding tools included with\nBrainStat. The context decoding module consists of three parts: genetic\ndecoding, meta-analytic decoding and histological comparisons. First, we'll\nconsider how to run the genetic decoding analysis. \n\n\n## Genetics\n\nFor genetic decoding we use the Allen Human Brain Atlas through the abagen\ntoolbox. Note that abagen only accepts parcellated data. Here is a minimal\nexample of how we use abagen to get the genetic expression of the 400 regions\nof the Schaefer atlas. Please note that downloading the dataset and running this\nanalysis can take several minutes.\n"
      ]
    },
    {
      "cell_type": "code",
      "execution_count": null,
      "metadata": {
        "collapsed": false
      },
      "outputs": [],
      "source": [
        "import numpy as np\nimport plotly.express as px\n\nfrom brainstat.context.genetics import surface_genetic_expression\nfrom brainstat.datasets import fetch_parcellation, fetch_template_surface\n\nschaefer_400 = fetch_parcellation(\"fsaverage5\", \"schaefer\", 400)\nsurfaces = fetch_template_surface(\"fsaverage5\", join=False)\n\nexpression = surface_genetic_expression(schaefer_400, surfaces, space=\"fsaverage\")\nprint(expression.iloc[0:5, 0:5])"
      ]
    },
    {
      "cell_type": "markdown",
      "metadata": {},
      "source": [
        "Expression is a pandas DataFrame which shows the genetic expression of genes\nwithin each region of the atlas. By default, the values will fall in the range\n[0, 1] where higher values represent higher expression. However, if you change\nthe normalization function then this may change. Some regions may return NaN\nvalues for all genes. This occurs when there are no samples within this\nregion across all donors.\n\nBy default, BrainStat uses all the default abagen parameters. If you wish to\ncustomize these parameters then the keyword arguments can be passed directly\nto `surface_genetic_expression`. For a full list of these arguments and their\nfunction please consult the abagen documentation.\n\n## Meta-Analytic\nTo perform meta-analytic decoding, BrainStat uses precomputed Neurosynth maps.\nHere we test which terms are most associated with a map of cortical thickness.\nA simple example analysis can be run as follows. First, we will load some\ncortical thickness data and two cortical surfaces. The ABIDE dataset provides\nthis data on the CIVET surface, so we will also load those surfaces. The\nsurface decoder interpolates the data from the surface to the voxels in the\nvolume that are in between the two input surfaces.\n\n"
      ]
    },
    {
      "cell_type": "code",
      "execution_count": null,
      "metadata": {
        "collapsed": false
      },
      "outputs": [],
      "source": [
        "from brainstat.context.meta_analysis import surface_decoder\nfrom brainstat.datasets import fetch_mask\nfrom brainstat.tutorial.utils import fetch_abide_data\n\ncivet_mask = fetch_mask(\"civet41k\")\ncivet_surface_mid = fetch_template_surface(\"civet41k\", layer=\"mid\", join=False)\ncivet_surface_white = fetch_template_surface(\"civet41k\", layer=\"white\", join=False)\nsubject_thickness, demographics = fetch_abide_data(sites=[\"PITT\"])\nthickness = subject_thickness.mean(axis=0)"
      ]
    },
    {
      "cell_type": "markdown",
      "metadata": {},
      "source": [
        "Next we can run the analysis. Note that the data, surfaces, and mask have to\nbe provided seperately for each hemisphere. Also note that downloading the\ndataset and running this analysis can take several minutes.\n\n"
      ]
    },
    {
      "cell_type": "code",
      "execution_count": null,
      "metadata": {
        "collapsed": false
      },
      "outputs": [],
      "source": [
        "meta_analysis = surface_decoder(\n    civet_surface_mid,\n    civet_surface_white,\n    [thickness[: len(thickness) // 2], thickness[len(thickness) // 2 :]],\n)\nprint(meta_analysis)"
      ]
    },
    {
      "cell_type": "markdown",
      "metadata": {},
      "source": [
        "meta_analysis now contains a pandas.dataFrame with the correlation values\nfor each requested feature. If no feature was requested (like here) then\nthe analysis is run across all features.\n\n\n## Histological decoding\nFor histological decoding we use microstructural profile covariance gradients,\nas first shown by (Paquola et al, 2019, Plos Biology), computed from the\nBigBrain dataset. Firstly, lets download the MPC data and compute its\ngradients.\n\n"
      ]
    },
    {
      "cell_type": "code",
      "execution_count": null,
      "metadata": {
        "collapsed": false
      },
      "outputs": [],
      "source": [
        "from brainstat.context.histology import (\n    compute_histology_gradients,\n    compute_mpc,\n    read_histology_profile,\n)\nfrom brainstat.datasets import fetch_parcellation\n\n# Run the analysis\nhistology_profiles = read_histology_profile(template=\"fsaverage5\")\nmpc = compute_mpc(histology_profiles, labels=schaefer_400)\ngradient_map = compute_histology_gradients(mpc)"
      ]
    },
    {
      "cell_type": "markdown",
      "metadata": {},
      "source": [
        "The variable histology_profiles now contains histological profiles sampled at\n50 different depths across the cortex, mpc contains the covariance of these\nprofiles, and gradient_map contains their gradients. Depending on your\nuse-case, each of these variables could be of interest, but for purposes of\nthis tutorial we'll plot the gradients to the surface with BrainSpace. For\ndetails on what the GradientMaps class, gm, contains please consult the\nBrainSpace documentation.\n\n"
      ]
    },
    {
      "cell_type": "code",
      "execution_count": null,
      "metadata": {
        "collapsed": false
      },
      "outputs": [],
      "source": [
        "from brainspace.plotting.surface_plotting import plot_hemispheres\nfrom brainspace.utils.parcellation import map_to_labels\n\nsurfaces = fetch_template_surface(\"fsaverage5\", join=False)\n\nvertexwise_data = []\nfor i in range(0, 2):\n    vertexwise_data.append(\n        map_to_labels(\n            gradient_map.gradients_[:, i],\n            schaefer_400,\n            mask=schaefer_400 != 0,\n            fill=np.nan,\n        )\n    )\n\nplot_hemispheres(\n    surfaces[0],\n    surfaces[1],\n    vertexwise_data,\n    embed_nb=True,\n    label_text=[\"Gradient 1\", \"Gradient 2\"],\n    color_bar=True,\n    size=(1400, 400),\n    zoom=1.45,\n    nan_color=(0.7, 0.7, 0.7, 1),\n    cb__labelTextProperty={\"fontSize\": 12},\n)"
      ]
    },
    {
      "cell_type": "markdown",
      "metadata": {},
      "source": [
        "Note that we no longer use the y-axis regression used in (Paquola et al, 2019,\nPlos Biology), as such the first gradient becomes an anterior-posterior-\ngradient.\n\n## Resting-state contextualization\nLastly, BrainStat provides contextualization using resting-state fMRI markers:\nspecifically, with the Yeo functional networks (Yeo et al., 2011, Journal of\nNeurophysiology), a clustering of resting-state connectivity, and the\nfunctional gradients (Margulies et al., 2016, PNAS), a lower dimensional\nmanifold of resting-state connectivity.\n\nAs an example, lets have a look at the first functional gradient within the\nYeo networks.\n\n\n"
      ]
    },
    {
      "cell_type": "code",
      "execution_count": null,
      "metadata": {
        "collapsed": false
      },
      "outputs": [],
      "source": [
        "import matplotlib.pyplot as plt\n\nfrom brainstat.context.resting import yeo_networks_average\nfrom brainstat.datasets import fetch_gradients, fetch_yeo_networks_metadata\n\nfunctional_gradients = fetch_gradients(\"fslr32k\", \"margulies2016\")\nyeo_gradients = yeo_networks_average(functional_gradients, \"fslr32k\")\nnetwork_names, yeo_colormap = fetch_yeo_networks_metadata(7)\n\nplt.bar(np.arange(7), yeo_gradients[:, 0], color=yeo_colormap)\nplt.xticks(np.arange(7), network_names, rotation=90)\nplt.gcf().subplots_adjust(bottom=0.3)\nplt.show()"
      ]
    },
    {
      "cell_type": "markdown",
      "metadata": {},
      "source": [
        "Unsurprisingly, the gradients are very similar to the Yeo networks, with\nhigher gradient values in higher order networks and lower values in lower\norder networks.\n\nThere are many ways to compare these gradients to cortical markers such as\ncortical thickness. In general, we recommend using corrections for spatial\nautocorrelation which are implemented in BrainSpace. We'll show a correction\nwith spin test in this tutorial; for other methods and further details please\nconsult the BrainSpace tutorials.\n\nIn a spin test we compare the empirical correlation between the gradient and\nthe cortical marker to a distribution of correlations derived from data\nrotated across the cortical surface. The p-value then depends on the\npercentile of the empirical correlation within the permuted distribution.\n\n"
      ]
    },
    {
      "cell_type": "code",
      "execution_count": null,
      "metadata": {
        "collapsed": false
      },
      "outputs": [],
      "source": [
        "from brainspace.datasets import load_conte69, load_marker\nfrom brainspace.null_models import SpinPermutations\n\nsphere_left, sphere_right = load_conte69(as_sphere=True)\nthickness_left, thickness_right = load_marker(\"thickness\", join=False)\nthickness = load_marker(\"thickness\", join=True)\n\n# Run spin test with 100 permutations (note: we generally recommend >=1000)\nn_rep = 100\nsp = SpinPermutations(n_rep=n_rep, random_state=2021)\nsp.fit(sphere_left, points_rh=sphere_right)\nthickness_rotated = np.hstack(sp.randomize(thickness_left, thickness_right))\n\n# Compute correlation between empirical and permuted data.\nmask = ~np.isnan(functional_gradients[:, 0]) & ~np.isnan(thickness)\nr_empirical = np.corrcoef(functional_gradients[mask, 0], thickness[mask])[0, 1]\nr_permuted = np.zeros(n_rep)\nfor i in range(n_rep):\n    mask = ~np.isnan(functional_gradients[:, 0]) & ~np.isnan(thickness_rotated[i, :])\n    r_permuted[i] = np.corrcoef(\n        functional_gradients[mask, 0], thickness_rotated[i, mask]\n    )[1:, 0]\n\n# Significance depends on whether we do a one-tailed or two-tailed test.\n# If one-tailed it depends on in which direction the test is.\np_value_right_tailed = np.mean(r_empirical > r_permuted)\np_value_left_tailed = np.mean(r_empirical < r_permuted)\np_value_two_tailed = np.minimum(p_value_right_tailed, p_value_left_tailed) * 2\nprint(f\"Two tailed p-value: {p_value_two_tailed}\")"
      ]
    },
    {
      "cell_type": "markdown",
      "metadata": {},
      "source": [
        "That concludes the tutorials of BrainStat. If anything is unclear, or if you\nthink you've found a bug, please post it to the Issues page of our Github.\n\nHappy BrainStating!\n\n"
      ]
    }
  ],
  "metadata": {
    "kernelspec": {
      "display_name": "Python 3",
      "language": "python",
      "name": "python3"
    },
    "language_info": {
      "codemirror_mode": {
        "name": "ipython",
        "version": 3
      },
      "file_extension": ".py",
      "mimetype": "text/x-python",
      "name": "python",
      "nbconvert_exporter": "python",
      "pygments_lexer": "ipython3",
      "version": "3.8.10"
    }
  },
  "nbformat": 4,
  "nbformat_minor": 0
}