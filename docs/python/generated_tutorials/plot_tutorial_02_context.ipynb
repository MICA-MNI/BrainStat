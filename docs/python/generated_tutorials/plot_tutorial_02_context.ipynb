{
  "cells": [
    {
      "cell_type": "code",
      "execution_count": null,
      "metadata": {
        "collapsed": false
      },
      "outputs": [],
      "source": [
        "%matplotlib inline"
      ]
    },
    {
      "cell_type": "markdown",
      "metadata": {},
      "source": [
        "\n# Tutorial 02: Context Decoding\n\nIn this tutorial you will learn about the context decoding tools included with\nBrainStat. The context decoding module consists of three parts: genetic\ndecoding, meta-analytic decoding and histological comparisons. Before we start,\nlets run a linear model testing for the effects of age on cortical thickness as\nwe did in Tutorial 1. We'll use the results of this model later in this\ntutorial.\n"
      ]
    },
    {
      "cell_type": "code",
      "execution_count": null,
      "metadata": {
        "collapsed": false
      },
      "outputs": [],
      "source": [
        "from brainstat.datasets import fetch_mask, fetch_template_surface\nfrom brainstat.stats.SLM import SLM\nfrom brainstat.stats.terms import FixedEffect, MixedEffect\nfrom brainstat.tutorial.utils import fetch_mics_data\n\nthickness, demographics = fetch_mics_data()\nmask = fetch_mask(\"fsaverage5\")\n\nterm_age = FixedEffect(demographics.AGE_AT_SCAN)\nterm_sex = FixedEffect(demographics.SEX)\nterm_subject = MixedEffect(demographics.SUB_ID)\nmodel = term_age + term_sex + term_age * term_sex + term_subject\n\ncontrast_age = -model.mean.AGE_AT_SCAN\nslm = SLM(\n    model, contrast_age, surf=\"fsaverage5\", mask=mask, correction=[\"fdr\", \"rft\"], two_tailed=False, cluster_threshold=0.01,\n)\nslm.fit(thickness)"
      ]
    },
    {
      "cell_type": "markdown",
      "metadata": {},
      "source": [
        "## Genetics\n\nFor genetic decoding we use the Allen Human Brain Atlas through the abagen\ntoolbox. Note that abagen only accepts parcellated data. Here is a minimal\nexample of how we use abagen to get the genetic expression of the 100 regions\nof the Schaefer atlas and how to plot this expression to a matrix. Please note\nthat downloading the dataset and running this analysis can take several\nminutes.\n\n"
      ]
    },
    {
      "cell_type": "code",
      "execution_count": null,
      "metadata": {
        "collapsed": false
      },
      "outputs": [],
      "source": [
        "import copy\n\nimport matplotlib.pyplot as plt\nimport numpy as np\nimport pandas as pd\nfrom brainspace.utils.parcellation import reduce_by_labels\nfrom matplotlib.cm import get_cmap\n\nfrom brainstat.context.genetics import surface_genetic_expression\nfrom brainstat.datasets import fetch_parcellation\n\n# Get Schaefer-100 genetic expression.\nschaefer_100_fs5 = fetch_parcellation(\"fsaverage5\", \"schaefer\", 100)\nsurfaces = fetch_template_surface(\"fsaverage5\", join=False)\nexpression = surface_genetic_expression(schaefer_100_fs5, surfaces, space=\"fsaverage\")\n\n# Plot Schaefer-100 genetic expression matrix.\ncolormap = copy.copy(get_cmap())\ncolormap.set_bad(color=\"black\")\nplt.imshow(expression, aspect=\"auto\", cmap=colormap)\nplt.colorbar()\nplt.xlabel(\"Genetic Expression\")\nplt.ylabel(\"Schaefer 100 Regions\")\nplt.show()"
      ]
    },
    {
      "cell_type": "markdown",
      "metadata": {},
      "source": [
        "Expression is a pandas DataFrame which shows the genetic expression of genes\nwithin each region of the atlas. By default, the values will fall in the range\n[0, 1] where higher values represent higher expression. However, if you change\nthe normalization function then this may change. Some regions may return NaN\nvalues for all genes. This occurs when there are no samples within this\nregion across all donors. We've denoted this region with the black color in the\nmatrix. By default, BrainStat uses all the default abagen parameters. If you wish to\ncustomize these parameters then the keyword arguments can be passed directly\nto `surface_genetic_expression`. For a full list of these arguments and their\nfunction please consult the abagen documentation.\n\nNext, lets have a look at the correlation between one gene (WFDC1) and our\nt-statistic map.\n\n"
      ]
    },
    {
      "cell_type": "code",
      "execution_count": null,
      "metadata": {
        "collapsed": false
      },
      "outputs": [],
      "source": [
        "# Plot correlation with SYNPR gene\nt_stat_schaefer_100 = reduce_by_labels(slm.t.flatten(), schaefer_100_fs5)[1:]\n\ndf = pd.DataFrame({\"x\": t_stat_schaefer_100, \"y\": expression[\"WFDC1\"]})\ndf.dropna(inplace=True)\nplt.scatter(df.x, df.y, s=5, c=\"k\")\nplt.xlabel(\"t-statistic\")\nplt.ylabel(\"WFDC1 expression\")\nplt.plot(np.unique(df.x), np.poly1d(np.polyfit(df.x, df.y, 1))(np.unique(df.x)), \"k\")\nplt.text(-4.5, 0.75, f\"r={df.x.corr(df.y):.2f}\", fontdict={\"size\": 14})\nplt.show()"
      ]
    },
    {
      "cell_type": "markdown",
      "metadata": {},
      "source": [
        "We find a small correlation. To test for significance we'll have\nto do some additional corrections, but more on that later.\n\n## Meta-Analytic\nTo perform meta-analytic decoding, BrainStat uses precomputed Neurosynth maps.\nHere we test which terms are most associated with a map of cortical thickness.\nA simple example analysis can be run as follows. The surface decoder\ninterpolates the data from the surface to the voxels in the volume that are in\nbetween the two input surfaces. We'll decode the t-statistics derived with our model\nearlier. Note that downloading the dataset and running this analysis can take several minutes.\n\n"
      ]
    },
    {
      "cell_type": "code",
      "execution_count": null,
      "metadata": {
        "collapsed": false
      },
      "outputs": [],
      "source": [
        "from brainstat.context.meta_analysis import meta_analytic_decoder\n\nmeta_analysis = meta_analytic_decoder(\"fsaverage5\", slm.t.flatten())\nprint(meta_analysis)"
      ]
    },
    {
      "cell_type": "markdown",
      "metadata": {},
      "source": [
        "meta_analysis now contains a pandas.dataFrame with the correlation values for\neach requested feature. Next we could create a Wordcloud of the included terms,\nwherein larger words denote higher correlations.\n\n"
      ]
    },
    {
      "cell_type": "code",
      "execution_count": null,
      "metadata": {
        "collapsed": false
      },
      "outputs": [],
      "source": [
        "from wordcloud import WordCloud\n\nwc = WordCloud(background_color=\"white\", random_state=0)\nwc.generate_from_frequencies(frequencies=meta_analysis.to_dict()[\"Pearson's r\"])\nplt.imshow(wc)\nplt.axis(\"off\")\nplt.show()"
      ]
    },
    {
      "cell_type": "markdown",
      "metadata": {},
      "source": [
        "If we broadly summarize, we see a lot of words related to language e.g.,\n\"language comprehension\", \"broca\", \"speaking\", \"speech production\".\nGenerally you'll also find several hits related to anatomy or clinical conditions.\nDepending on your research question, it may be more interesting to\nselect only those terms related to cognition or some other subset.\n\n## Histological decoding\nFor histological decoding we use microstructural profile covariance gradients,\nas first shown by (Paquola et al, 2019, Plos Biology), computed from the\nBigBrain dataset. Firstly, lets download the MPC data, compute its\ngradients, and correlate the first gradient with our t-statistic map.\n\n"
      ]
    },
    {
      "cell_type": "code",
      "execution_count": null,
      "metadata": {
        "collapsed": false
      },
      "outputs": [],
      "source": [
        "from brainstat.context.histology import (\n    compute_histology_gradients,\n    compute_mpc,\n    read_histology_profile,\n)\n\n# Run the analysis\nschaefer_400 = fetch_parcellation(\"fsaverage5\", \"schaefer\", 400)\nhistology_profiles = read_histology_profile(template=\"fsaverage5\")\nmpc = compute_mpc(histology_profiles, labels=schaefer_400)\ngradient_map = compute_histology_gradients(mpc, random_state=0)\n\n# Plot the correlation between the t-stat\nt_stat_schaefer_400 = reduce_by_labels(slm.t.flatten(), schaefer_400)[1:]\ndf = pd.DataFrame({\"x\": t_stat_schaefer_400, \"y\": gradient_map.gradients_[:, 0]})\ndf.dropna(inplace=True)\nplt.scatter(df.x, df.y, s=5, c=\"k\")\nplt.xlabel(\"t-statistic\")\nplt.ylabel(\"MPC Gradient 1\")\nplt.plot(np.unique(df.x), np.poly1d(np.polyfit(df.x, df.y, 1))(np.unique(df.x)), \"k\")\nplt.text(1.5, 0.05, f\"r={df.x.corr(df.y):.2f}\", fontdict={\"size\": 14})\nplt.show()"
      ]
    },
    {
      "cell_type": "markdown",
      "metadata": {},
      "source": [
        "The variable histology_profiles now contains histological profiles sampled at\n50 different depths across the cortex, mpc contains the covariance of these\nprofiles, and gradient_map contains their gradients. We also see that the\ncorrelation between our t-statistic map and these gradients is not very\nhigh. Depending on your use-case, each of the three variables here could be of\ninterest, but for purposes of this tutorial we'll plot the gradients to the\nsurface with BrainSpace. For details on what the GradientMaps class\n(gradient_map) contains please consult the BrainSpace documentation.\n\n"
      ]
    },
    {
      "cell_type": "code",
      "execution_count": null,
      "metadata": {
        "collapsed": false
      },
      "outputs": [],
      "source": [
        "from brainspace.plotting.surface_plotting import plot_hemispheres\nfrom brainspace.utils.parcellation import map_to_labels\n\nsurfaces = fetch_template_surface(\"fsaverage5\", join=False)\n\n# Bring parcellated data to vertex data.\nvertexwise_data = []\nfor i in range(0, 2):\n    vertexwise_data.append(\n        map_to_labels(\n            gradient_map.gradients_[:, i],\n            schaefer_400,\n            mask=schaefer_400 != 0,\n            fill=np.nan,\n        )\n    )\n\n# Plot to surface.\nplot_hemispheres(\n    surfaces[0],\n    surfaces[1],\n    vertexwise_data,\n    embed_nb=True,\n    label_text=[\"Gradient 1\", \"Gradient 2\"],\n    color_bar=True,\n    size=(1400, 400),\n    zoom=1.45,\n    nan_color=(0.7, 0.7, 0.7, 1),\n    cb__labelTextProperty={\"fontSize\": 12},\n)"
      ]
    },
    {
      "cell_type": "markdown",
      "metadata": {},
      "source": [
        "Note that we no longer use the y-axis regression used in (Paquola et al, 2019,\nPlos Biology), as such the first gradient becomes an anterior-posterior\ngradient.\n\n## Resting-state contextualization\nLastly, BrainStat provides contextualization using resting-state fMRI markers:\nspecifically, with the Yeo functional networks (Yeo et al., 2011, Journal of\nNeurophysiology), a clustering of resting-state connectivity, and the\nfunctional gradients (Margulies et al., 2016, PNAS), a lower dimensional\nmanifold of resting-state connectivity.\n\nAs an example, lets have a look at the the t-statistic map within the\nYeo networks. We'll make a barplot showing the mean and standard error of\nthe mean within each network.\n\n"
      ]
    },
    {
      "cell_type": "code",
      "execution_count": null,
      "metadata": {
        "collapsed": false
      },
      "outputs": [],
      "source": [
        "import matplotlib.pyplot as plt\nfrom scipy.stats import sem\n\nfrom brainstat.context.resting import yeo_networks_associations\nfrom brainstat.datasets import fetch_yeo_networks_metadata\n\nyeo_tstat_mean = yeo_networks_associations(slm.t.flatten(), \"fsaverage5\")\nyeo_tstat_sem = yeo_networks_associations(\n    slm.t.flatten(),\n    \"fsaverage5\",\n    reduction_operation=lambda x, y: sem(x, nan_policy=\"omit\"),\n)\nnetwork_names, yeo_colormap = fetch_yeo_networks_metadata(7)\n\nplt.bar(\n    np.arange(7), yeo_tstat_mean[:, 0], yerr=yeo_tstat_sem.flatten(), color=yeo_colormap\n)\nplt.xticks(np.arange(7), network_names, rotation=90)\nplt.gcf().subplots_adjust(bottom=0.3)\nplt.show()"
      ]
    },
    {
      "cell_type": "markdown",
      "metadata": {},
      "source": [
        "Across all networks, the mean t-statistic appears to be negative, with the\nmost negative values in the dorsal attnetion and visual networks.\n\nLastly, lets plot the functional gradients and have a look at their correlation\nwith our t-map.\n\n"
      ]
    },
    {
      "cell_type": "code",
      "execution_count": null,
      "metadata": {
        "collapsed": false
      },
      "outputs": [],
      "source": [
        "from brainstat.datasets import fetch_gradients\n\nfunctional_gradients = fetch_gradients(\"fsaverage5\", \"margulies2016\")\n\n\nplot_hemispheres(\n    surfaces[0],\n    surfaces[1],\n    functional_gradients[:, 0:3].T,\n    color_bar=True,\n    label_text=[\"Gradient 1\", \"Gradient 2\", \"Gradient 3\"],\n    embed_nb=True,\n    size=(1400, 600),\n    zoom=1.45,\n    nan_color=(0.7, 0.7, 0.7, 1),\n    cb__labelTextProperty={\"fontSize\": 12},\n)"
      ]
    },
    {
      "cell_type": "code",
      "execution_count": null,
      "metadata": {
        "collapsed": false
      },
      "outputs": [],
      "source": [
        "df = pd.DataFrame({\"x\": slm.t.flatten(), \"y\": functional_gradients[:, 0]})\ndf.dropna(inplace=True)\nplt.scatter(df.x, df.y, s=0.01, c=\"k\")\nplt.xlabel(\"t-statistic\")\nplt.ylabel(\"Functional Gradient 1\")\nplt.plot(np.unique(df.x), np.poly1d(np.polyfit(df.x, df.y, 1))(np.unique(df.x)), \"k\")\nplt.text(-6.5, 6, f\"r={df.x.corr(df.y):.2f}\", fontdict={\"size\": 14})\nplt.show()"
      ]
    },
    {
      "cell_type": "markdown",
      "metadata": {},
      "source": [
        "It seems the correlations are quite low. However, we'll need some more complex\ntests to assess statistical significance. There are many ways to compare these\ngradients to cortical markers. In general, we recommend using corrections for\nspatial autocorrelation which are implemented in BrainSpace. We'll show a\ncorrection with spin test in this tutorial; for other methods and further\ndetails please consult the BrainSpace tutorials.\n\nIn a spin test we compare the empirical correlation between the gradient and\nthe cortical marker to a distribution of correlations derived from data\nrotated across the cortical surface. The p-value then depends on the\npercentile of the empirical correlation within the permuted distribution.\n\n"
      ]
    },
    {
      "cell_type": "code",
      "execution_count": null,
      "metadata": {
        "collapsed": false
      },
      "outputs": [],
      "source": [
        "from brainspace.null_models import SpinPermutations\n\nsphere_left, sphere_right = fetch_template_surface(\n    \"fsaverage5\", layer=\"sphere\", join=False\n)\ntstat = slm.t.flatten()\ntstat_left = tstat[: slm.t.size // 2]\ntstat_right = tstat[slm.t.size // 2 :]\n\n# Run spin test with 1000 permutations.\nn_rep = 1000\nsp = SpinPermutations(n_rep=n_rep, random_state=2021)\nsp.fit(sphere_left, points_rh=sphere_right)\ntstat_rotated = np.hstack(sp.randomize(tstat_left, tstat_right))\n\n# Compute correlation for empirical and permuted data.\nmask = ~np.isnan(functional_gradients[:, 0]) & ~np.isnan(tstat)\nr_empirical = np.corrcoef(functional_gradients[mask, 0], tstat[mask])[0, 1]\nr_permuted = np.zeros(n_rep)\nfor i in range(n_rep):\n    mask = ~np.isnan(functional_gradients[:, 0]) & ~np.isnan(tstat_rotated[i, :])\n    r_permuted[i] = np.corrcoef(functional_gradients[mask, 0], tstat_rotated[i, mask])[\n        1:, 0\n    ]\n\n# Significance depends on whether we do a one-tailed or two-tailed test.\n# If one-tailed it depends on in which direction the test is.\np_value_right_tailed = np.mean(r_empirical > r_permuted)\np_value_left_tailed = np.mean(r_empirical < r_permuted)\np_value_two_tailed = np.minimum(p_value_right_tailed, p_value_left_tailed) * 2\nprint(f\"Two tailed p-value: {p_value_two_tailed}\")\n\n# Plot the permuted distribution of correlations.\nplt.hist(r_permuted, bins=20, color=\"c\", edgecolor=\"k\", alpha=0.65)\nplt.axvline(r_empirical, color=\"k\", linestyle=\"dashed\", linewidth=1)\nplt.show()"
      ]
    },
    {
      "cell_type": "markdown",
      "metadata": {},
      "source": [
        "As we can see from both the p-value as well as the histogram, wherein the\ndotted line denotes the empirical correlation, this correlation does not reach\nsignificance.\n\nThat concludes the tutorials of BrainStat. If anything is unclear, or if you\nthink you've found a bug, please post it to the Issues page of our Github.\n\nHappy BrainStating!\n\n"
      ]
    }
  ],
  "metadata": {
    "kernelspec": {
      "display_name": "Python 3",
      "language": "python",
      "name": "python3"
    },
    "language_info": {
      "codemirror_mode": {
        "name": "ipython",
        "version": 3
      },
      "file_extension": ".py",
      "mimetype": "text/x-python",
      "name": "python",
      "nbconvert_exporter": "python",
      "pygments_lexer": "ipython3",
      "version": "3.8.10"
    }
  },
  "nbformat": 4,
  "nbformat_minor": 0
}