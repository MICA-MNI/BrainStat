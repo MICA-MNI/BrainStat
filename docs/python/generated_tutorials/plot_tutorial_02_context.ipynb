{
  "cells": [
    {
      "cell_type": "code",
      "execution_count": null,
      "metadata": {
        "collapsed": false
      },
      "outputs": [],
      "source": [
        "%matplotlib inline"
      ]
    },
    {
      "cell_type": "markdown",
      "metadata": {},
      "source": [
        "\n# Tutorial 02: Context Decoding\n\nIn this tutorial you will learn about the context decoding tools included with\nBrainStat. The context decoding module consists of three parts: genetic\ndecoding, meta-analytic decoding and histological comparisons. First, we'll\nconsider how to run the genetic decoding analysis. \n\n\n## Genetics\n\nFor genetic decoding we use the Allen Human Brain Atlas through the abagen\ntoolbox. Note that abagen only accepts parcellated data. Here is a minimal\nexample of how we use abagen to get the genetic expression of the regions of the\nDestrieux atlas. Please note that downloading the dataset and running this\nanalysis can take several minutes.\n"
      ]
    },
    {
      "cell_type": "code",
      "execution_count": null,
      "metadata": {
        "collapsed": false
      },
      "outputs": [],
      "source": [
        "import numpy as np\nfrom nilearn import datasets as nil_datasets\n\nfrom brainstat.context.genetics import surface_genetic_expression\nfrom brainstat.datasets import fetch_template_surface\n\ndestrieux = nil_datasets.fetch_atlas_surf_destrieux()\nlabels = np.hstack((destrieux[\"map_left\"], destrieux[\"map_right\"]))\nsurfaces = fetch_template_surface(\"fsaverage5\", join=False)\n\nexpression = surface_genetic_expression(labels, surfaces, space=\"fsaverage\")\nprint(expression)"
      ]
    },
    {
      "cell_type": "markdown",
      "metadata": {},
      "source": [
        "Expression is a pandas DataFrame which shows the genetic expression of genes\nwithin each region of the atlas. By default, the values will fall in the range\n[0, 1] where higher values represent higher expression. However, if you change\nthe normalization function then this may change. Some regions may return NaN\nvalues for all modules. This occurs when there are no samples within this\nregion across all donors.\n\nBy default, BrainStat uses all the default abagen parameters. If you wish to\ncustomize these parameters then the keyword arguments can be passed directly\nto `surface_genetic_expression`. For a full list of these arguments and their\nfunction please consult the abagen documentation.\n\n## Meta-Analytic\nTo perform meta-analytic decoding, BrainStat uses precomputed Neurosynth maps.\nHere we test which terms are most associated with a map of cortical thickness.\nA simple example analysis can be run as follows. First, we will load some\ncortical thickness data and two cortical surfaces. The ABIDE dataset provides\nthis data on the CIVET surface, so we will also load those surfaces. The\nsurface decoder interpolates the data from the surface to the voxels in the\nvolume that are in between the two input surfaces.\n\n"
      ]
    },
    {
      "cell_type": "code",
      "execution_count": null,
      "metadata": {
        "collapsed": false
      },
      "outputs": [],
      "source": [
        "from brainstat.context.meta_analysis import surface_decoder\nfrom brainstat.datasets import fetch_mask\nfrom brainstat.tutorial.utils import fetch_abide_data\n\ncivet_mask = fetch_mask(\"civet41k\")\ncivet_surface_mid = fetch_template_surface(\"civet41k\", layer=\"mid\", join=False)\ncivet_surface_white = fetch_template_surface(\"civet41k\", layer=\"white\", join=False)\nsubject_thickness, demographics = fetch_abide_data(sites=[\"PITT\"])\nthickness = subject_thickness.mean(axis=0)"
      ]
    },
    {
      "cell_type": "markdown",
      "metadata": {},
      "source": [
        "Next we can run the analysis. Note that the data, surfaces, and mask have to\nbe provided seperately for each hemisphere. Also note that downloading the\ndataset and running this analysis can take several minutes.\n\n"
      ]
    },
    {
      "cell_type": "code",
      "execution_count": null,
      "metadata": {
        "collapsed": false
      },
      "outputs": [],
      "source": [
        "meta_analysis = surface_decoder(\n    civet_surface_mid,\n    civet_surface_white,\n    [thickness[: len(thickness) // 2], thickness[len(thickness) // 2 :]],\n)\nprint(meta_analysis)"
      ]
    },
    {
      "cell_type": "markdown",
      "metadata": {},
      "source": [
        "meta_analysis now contains a pandas.dataFrame with the correlation values\nfor each requested feature. If no feature was requested (like here) then\nthe analysis is run across all features.\n\n\n## Histological decoding\nFor histological decoding we use microstructural profile covariance gradients\ncomputed from the BigBrain dataset. (TODO: Add more background). Firstly, lets\ndownload the MPC data and compute its gradients.\n\n"
      ]
    },
    {
      "cell_type": "code",
      "execution_count": null,
      "metadata": {
        "collapsed": false
      },
      "outputs": [],
      "source": [
        "from brainstat.context.histology import (\n    compute_histology_gradients,\n    compute_mpc,\n    read_histology_profile,\n)\nfrom brainstat.datasets import fetch_parcellation\n\n# Load the Schaefer 400 atlas\nschaefer_400 = fetch_parcellation(\"fsaverage5\", \"schaefer\", 400)\n\n# Run the analysis\nhistology_profiles = read_histology_profile(template=\"fsaverage5\")\nmpc = compute_mpc(histology_profiles, labels=schaefer_400)\ngradient_map = compute_histology_gradients(mpc)"
      ]
    },
    {
      "cell_type": "markdown",
      "metadata": {},
      "source": [
        "Lets plot the first gradient of histology to see what it looks like.\nWe will use BrainSpace to create our plots. For full details on how\nBrainSpace's plotting functionality works, please consult the BrainSpace\nReadTheDocs.\n\n"
      ]
    },
    {
      "cell_type": "code",
      "execution_count": null,
      "metadata": {
        "collapsed": false
      },
      "outputs": [],
      "source": [
        "from brainspace.plotting.surface_plotting import plot_hemispheres\nfrom brainspace.utils.parcellation import map_to_labels\n\nsurfaces = fetch_template_surface(\"fsaverage5\", join=False)\n\nvertexwise_data = []\nfor i in range(0, 2):\n    vertexwise_data.append(\n        map_to_labels(\n            gradient_map.gradients_[:, i],\n            schaefer_400,\n            mask=schaefer_400 != 0,\n            fill=np.nan,\n        )\n    )\n\nplot_hemispheres(\n    surfaces[0],\n    surfaces[1],\n    vertexwise_data,\n    embed_nb=True,\n    label_text=[\"Gradient 1\", \"Gradient 2\"],\n)"
      ]
    }
  ],
  "metadata": {
    "kernelspec": {
      "display_name": "Python 3",
      "language": "python",
      "name": "python3"
    },
    "language_info": {
      "codemirror_mode": {
        "name": "ipython",
        "version": 3
      },
      "file_extension": ".py",
      "mimetype": "text/x-python",
      "name": "python",
      "nbconvert_exporter": "python",
      "pygments_lexer": "ipython3",
      "version": "3.8.10"
    }
  },
  "nbformat": 4,
  "nbformat_minor": 0
}