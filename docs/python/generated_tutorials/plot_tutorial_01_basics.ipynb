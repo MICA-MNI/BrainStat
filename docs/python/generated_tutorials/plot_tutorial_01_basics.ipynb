{
  "cells": [
    {
      "cell_type": "code",
      "execution_count": null,
      "metadata": {
        "collapsed": false
      },
      "outputs": [],
      "source": [
        "%matplotlib inline"
      ]
    },
    {
      "cell_type": "markdown",
      "metadata": {},
      "source": [
        "\n# Tutorial 01: Linear Models\nIn this tutorial you will set up your first linear model with BrainStat. \nTo this end, we will first load some sample data from the MICS dataset. \n"
      ]
    },
    {
      "cell_type": "code",
      "execution_count": null,
      "metadata": {
        "collapsed": false
      },
      "outputs": [],
      "source": [
        "from brainstat.datasets import fetch_mask, fetch_template_surface\nfrom brainstat.tutorial.utils import fetch_mics_data\n\n# Load behavioral markers\nthickness, demographics = fetch_mics_data()\npial_left, pial_right = fetch_template_surface(\"fsaverage5\", join=False)\npial_combined = fetch_template_surface(\"fsaverage5\", join=True)\nmask = fetch_mask(\"fsaverage5\")"
      ]
    },
    {
      "cell_type": "markdown",
      "metadata": {},
      "source": [
        "Lets have a look at the cortical thickness data. To do this,\nwe will use the surface plotter included with BrainSpace. As we'll\nbe plotting data onto these hemispheres quite often in this tutorial\nwe'll create a simple function for it and plot mean thickness here.\n\n"
      ]
    },
    {
      "cell_type": "code",
      "execution_count": null,
      "metadata": {
        "collapsed": false
      },
      "outputs": [],
      "source": [
        "import numpy as np\nfrom brainspace.plotting import plot_hemispheres\n\n\ndef local_plot_hemispheres(values, label_text, color_range, cmap=\"viridis\"):\n    # Plot cortical surfaces with values as the data, label_text as\n    # the labels, and color_range as the limits of the color bar.\n    return plot_hemispheres(\n        pial_left,\n        pial_right,\n        values,\n        color_bar=True,\n        color_range=color_range,\n        label_text=label_text,\n        cmap=cmap,\n        embed_nb=True,\n        size=(1400, 200),\n        zoom=1.45,\n        nan_color=(0.7, 0.7, 0.7, 1),\n        cb__labelTextProperty={\"fontSize\": 12},\n        interactive=False,\n    )\n\n\nlocal_plot_hemispheres(np.mean(thickness, axis=0), [\"Cortical Thickness\"], (1.5, 3.5))"
      ]
    },
    {
      "cell_type": "markdown",
      "metadata": {},
      "source": [
        "Lets also have a look at what's inside the demographics data.\n\n"
      ]
    },
    {
      "cell_type": "code",
      "execution_count": null,
      "metadata": {
        "collapsed": false
      },
      "outputs": [],
      "source": [
        "print(demographics)"
      ]
    },
    {
      "cell_type": "markdown",
      "metadata": {},
      "source": [
        "Demographics contains four variables: a subject ID, a visit number (some\nsubjects visited multiple times), their age at the time of scanning and their\nsex. Lets also print some summary statistics.\n\n"
      ]
    },
    {
      "cell_type": "code",
      "execution_count": null,
      "metadata": {
        "collapsed": false
      },
      "outputs": [],
      "source": [
        "# Print demographics summary.\nfor i in range(1, 3):\n    print(\n        (\n            f\"Visit {i}, N={np.sum(demographics.VISIT==i)}, \"\n            f\"{np.sum(demographics.SEX[demographics.VISIT == i] == 'F')} females, \"\n            f\"mean subject age {np.mean(demographics.AGE_AT_SCAN[demographics.VISIT == i]):.2f}, \"\n            f\"standard deviation of age: {np.std(demographics.AGE_AT_SCAN[demographics.VISIT==i]):.2f}.\"\n        )\n    )"
      ]
    },
    {
      "cell_type": "markdown",
      "metadata": {},
      "source": [
        "Next, we will assess whether a subject's age is related to their cortical\nthickness. To this end we can create a linear model with BrainStat. For our\nfirst model, we will only consider the effect of age, i.e. we will disregard\nthe effect of sex and that some subjects visit twice. this end we can create a\nlinear model with BrainStat. First we declare the age variable as a\nFixedEffect. The FixedEffect class can be created in two ways: either we\nprovide the data with pandas, as we do here, or we provide a numpy array and a\nname for the fixed effect. Lets set up the model Y = intercept + B1 * age. Note\nthat BrainStat includes an intercept by default.\n\n"
      ]
    },
    {
      "cell_type": "code",
      "execution_count": null,
      "metadata": {
        "collapsed": false
      },
      "outputs": [],
      "source": [
        "from brainstat.stats.terms import FixedEffect\n\nterm_age = FixedEffect(demographics.AGE_AT_SCAN)\nmodel = term_age"
      ]
    },
    {
      "cell_type": "markdown",
      "metadata": {},
      "source": [
        "As said before, if your data is not in a pandas DataFrame (e.g. numpy), you'll\nhave to provide the name of the effect as an additional parameter as follows:\n\n"
      ]
    },
    {
      "cell_type": "code",
      "execution_count": null,
      "metadata": {
        "collapsed": false
      },
      "outputs": [],
      "source": [
        "term_age_2 = FixedEffect(demographics.AGE_AT_SCAN.to_numpy(), \"AGE_AT_SCAN\")"
      ]
    },
    {
      "cell_type": "markdown",
      "metadata": {},
      "source": [
        "Lets have a look at one of these models. As you can see below, the model is\nstored in a format closely resembling a pandas DataFrame. Note that an\nintercept is automatically added to the model. This behavior can be disabled\nin the FixedEffect call, but we recommend leaving it enabled. We can also\naccess the vectors related to each effect by their name i.e. model.intercept\nand model.AGE_AT_SCAN will return the vectors of the intercept and age, respectively.\n\n"
      ]
    },
    {
      "cell_type": "code",
      "execution_count": null,
      "metadata": {
        "collapsed": false
      },
      "outputs": [],
      "source": [
        "print(model)"
      ]
    },
    {
      "cell_type": "markdown",
      "metadata": {},
      "source": [
        "Now, imagine we have some cortical marker (e.g. cortical thickness) for each\nsubject, and we want to evaluate whether this marker is different across the\nthe lifespan. To do this, we can use the model we defined before, and a\ncontrast in observations (here: age). Then we simply initialize an SLM model\nand fit it to the cortical thickness data.\n\n"
      ]
    },
    {
      "cell_type": "code",
      "execution_count": null,
      "metadata": {
        "collapsed": false
      },
      "outputs": [],
      "source": [
        "from brainstat.stats.SLM import SLM\n\ncontrast_age = demographics.AGE_AT_SCAN\nslm_age = SLM(\n    model,\n    contrast_age,\n    surf=\"fsaverage5\",\n    mask=mask,\n    correction=[\"fdr\", \"rft\"],\n    cluster_threshold=0.01,\n)\nslm_age.fit(thickness)"
      ]
    },
    {
      "cell_type": "markdown",
      "metadata": {},
      "source": [
        "The resulting model, slm_age, will contain the t-statistic map, p-values\nderived with the requested corrections, and a myriad of other properties (see\nthe API for more details). Lets plot the t-values and p-values on the surface.\nWe'll do this a few times throughout the tutorial so lets define a function to\ndo this.\n\n"
      ]
    },
    {
      "cell_type": "code",
      "execution_count": null,
      "metadata": {
        "collapsed": false
      },
      "outputs": [],
      "source": [
        "def plot_slm_results(slm, plot_peak=False, plot_fdr=False):\n\n    handles = [local_plot_hemispheres(slm.t, [\"t-values\"], (-4, 4), \"bwr\")]\n\n    plot_pvalues = [np.copy(slm.P[\"pval\"][\"C\"])]\n    labels = [\"Cluster p-values\"]\n\n    if plot_peak:\n        plot_pvalues.append(np.copy(slm.P[\"pval\"][\"P\"]))\n        labels.append(\"Peak p-vales\")\n\n    if plot_fdr:\n        plot_pvalues.append(np.copy(slm.Q))\n        labels.append(\"Vertex p-values\")\n\n    [np.place(x, np.logical_or(x > 0.05, ~mask), np.nan) for x in plot_pvalues]\n\n    for i in range(len(plot_pvalues)):\n        handles.append(\n            local_plot_hemispheres(plot_pvalues[i], [labels[i]], (0, 0.05), \"plasma_r\")\n        )\n\n    return handles\n\n\nplot_slm_results(slm_age, plot_peak=True, plot_fdr=True)"
      ]
    },
    {
      "cell_type": "markdown",
      "metadata": {},
      "source": [
        "Only clusters are significant, and not peaks. This suggests that the age\neffect covers large regions, rather than local foci. Furthermore, at the\nvertexwise level we only find a small group of significant vertices in the\nleft cingulate cortex. Lets have a closer look at the clusters and their\npeaks. The data on clusters are stored in tables inside BrainStatModel.P.clus\nand information on the peaks is stored in BrainStatModel.P.peak. If a\ntwo-tailed test is run (BrainStat defaults to two-tailed), a table is returned\nfor each tail. The first table uses the contrast as provided, the second table\nuses the inverse contrast. If a one-tailed test is performed, then only a\nsingle table is returned. Lets print the first 15 rows of the inverted\ncontrast cluster table.\n\n\n"
      ]
    },
    {
      "cell_type": "code",
      "execution_count": null,
      "metadata": {
        "collapsed": false
      },
      "outputs": [],
      "source": [
        "print(slm_age.P[\"clus\"][1])"
      ]
    },
    {
      "cell_type": "markdown",
      "metadata": {},
      "source": [
        "Here, we see that cluster 1 contains 373 vertices. Clusters are sorted by\np-value; later clusters will generally be smaller and have higher p-values.\nLets now have a look at the peaks within these clusters.\n\n"
      ]
    },
    {
      "cell_type": "code",
      "execution_count": null,
      "metadata": {
        "collapsed": false
      },
      "outputs": [],
      "source": [
        "print(slm_age.P[\"peak\"][1])"
      ]
    },
    {
      "cell_type": "markdown",
      "metadata": {},
      "source": [
        "Within cluster 1, we are able to detect several peaks. The peak with the\nhighest t-statistic (t=4.3972) occurs at vertex 19629, which is inside the\nfrontoparietal network as defined by the Yeo-7 networks. Note that the Yeo\nnetwork membership is only provided if the surface is specified as a template\nname as we did here. For custom surfaces, or pre-loaded surfaces (as we will\nuse below) this column is omitted.\n\n"
      ]
    },
    {
      "cell_type": "markdown",
      "metadata": {},
      "source": [
        "## Interaction effects models\n\nSimilarly to age, we can also test for the effect of sex on cortical thickness.\n\n"
      ]
    },
    {
      "cell_type": "code",
      "execution_count": null,
      "metadata": {
        "collapsed": false
      },
      "outputs": [],
      "source": [
        "term_sex = FixedEffect(demographics.SEX)\nmodel_sex = term_sex\ncontrast_sex = (demographics.SEX == \"M\").astype(int) - (demographics.SEX == \"F\").astype(\n    int\n)"
      ]
    },
    {
      "cell_type": "markdown",
      "metadata": {},
      "source": [
        "Next we will rerrun the model and see if our results change.\n\n"
      ]
    },
    {
      "cell_type": "code",
      "execution_count": null,
      "metadata": {
        "collapsed": false
      },
      "outputs": [],
      "source": [
        "slm_sex = SLM(\n    model_sex,\n    contrast_sex,\n    surf=pial_combined,\n    mask=mask,\n    correction=[\"fdr\", \"rft\"],\n    two_tailed=False,\n    cluster_threshold=0.01,\n)\nslm_sex.fit(thickness)\nplot_slm_results(slm_sex)"
      ]
    },
    {
      "cell_type": "markdown",
      "metadata": {},
      "source": [
        "Here, we find few significant effects of sex on cortical thickness. However, as\nwe've already established, age has an effect on cortical thickness. So we may\nwant to correct for this effect before evaluating whether sex has an effect on\ncortical thickenss. Lets make a new model that includes the effect of age.\n\n"
      ]
    },
    {
      "cell_type": "code",
      "execution_count": null,
      "metadata": {
        "collapsed": false
      },
      "outputs": [],
      "source": [
        "model_sexage = term_age + term_sex"
      ]
    },
    {
      "cell_type": "markdown",
      "metadata": {},
      "source": [
        "Next we will rerrun the model and see if our results change.\n\n"
      ]
    },
    {
      "cell_type": "code",
      "execution_count": null,
      "metadata": {
        "collapsed": false
      },
      "outputs": [],
      "source": [
        "slm_sexage = SLM(\n    model_sexage,\n    contrast_sex,\n    surf=pial_combined,\n    mask=mask,\n    correction=[\"fdr\", \"rft\"],\n    two_tailed=False,\n    cluster_threshold=0.01,\n)\nslm_sexage.fit(thickness)\nplot_slm_results(slm_sexage)"
      ]
    },
    {
      "cell_type": "markdown",
      "metadata": {},
      "source": [
        "After accounting for the effect of age, we still find only one significant\ncluster of effect of sex on cortical thickness. However, it could be that age\naffects men and women differently. To account for this, we could include an\ninteraction effect into the model. Lets run the model again with an\ninteraction effect.\n\n"
      ]
    },
    {
      "cell_type": "code",
      "execution_count": null,
      "metadata": {
        "collapsed": false
      },
      "outputs": [],
      "source": [
        "# Effect of sex on cortical thickness.\nmodel_sexage_int = term_age + term_sex + term_age * term_sex\n\nslm_sexage_int = SLM(\n    model_sexage_int,\n    contrast_sex,\n    surf=pial_combined,\n    mask=mask,\n    correction=[\"rft\"],\n    cluster_threshold=0.01,\n)\nslm_sexage_int.fit(thickness)\nplot_slm_results(slm_sexage_int)"
      ]
    },
    {
      "cell_type": "markdown",
      "metadata": {},
      "source": [
        "After including the interaction effect, we no significant effects of\nsex on cortical thickness in several clusters.\n\nWe could also look at whether the cortex of men and women changes\ndifferently with age by comparing their interaction effects.\n\n"
      ]
    },
    {
      "cell_type": "code",
      "execution_count": null,
      "metadata": {
        "collapsed": false
      },
      "outputs": [],
      "source": [
        "# Effect of age on cortical thickness for the healthy group.\ncontrast_sex_int = demographics.AGE_AT_SCAN * (\n    demographics.SEX == \"M\"\n) - demographics.AGE_AT_SCAN * (demographics.SEX == \"F\")\n\nslm_sex_int = SLM(\n    model_sexage_int,\n    contrast_sex_int,\n    surf=pial_combined,\n    mask=mask,\n    correction=[\"rft\"],\n    cluster_threshold=0.01,\n)\nslm_sex_int.fit(thickness)\nplot_slm_results(slm_sex_int)"
      ]
    },
    {
      "cell_type": "markdown",
      "metadata": {},
      "source": [
        "Indeed, it appears that the interaction effect between sex and age is quite\ndifferent across men and women, with stronger effects occuring in women.\n\n"
      ]
    },
    {
      "cell_type": "markdown",
      "metadata": {},
      "source": [
        "## One-tailed Test\n\n"
      ]
    },
    {
      "cell_type": "markdown",
      "metadata": {},
      "source": [
        "Imagine that, based on prior research, we hypothesize that men have higher\ncortical thickness than women. In that case, we could run this same model with\na one-tailed test, rather than a two-tailed test. By default BrainStat uses a\ntwo-tailed test. If you want to get a one-tailed test, simply specify it in\nthe SLM model initialization with 'two_tailed', false. Note that the\none-tailed test will test for the significance of positive t-values. If you\nwant to test for the significance of negative t-values, simply change the sign\nof the contrast. We may hypothesize based on prior research that cortical\nthickness decreases with age, so we could specify this as follows. Note the\nminus in front of contrast_age to test for decreasing thickness with age.\n\n"
      ]
    },
    {
      "cell_type": "code",
      "execution_count": null,
      "metadata": {
        "collapsed": false
      },
      "outputs": [],
      "source": [
        "from brainstat.stats.SLM import SLM\n\nslm_onetailed = SLM(\n    model_sexage_int,\n    -contrast_age,\n    surf=pial_combined,\n    mask=mask,\n    correction=[\"rft\"],\n    cluster_threshold=0.01,\n    two_tailed=False,\n)\nslm_onetailed.fit(thickness)\nplot_slm_results(slm_onetailed)"
      ]
    },
    {
      "cell_type": "markdown",
      "metadata": {},
      "source": [
        "Notice the additional clusters that we find when using a one-tailed test.\n\n"
      ]
    },
    {
      "cell_type": "markdown",
      "metadata": {},
      "source": [
        "## Mixed Effects Models\n\n"
      ]
    },
    {
      "cell_type": "markdown",
      "metadata": {},
      "source": [
        "So far, we've considered multiple visits of the same subject as two separate,\nindependent measurements. Clearly, however, such measurements are not\nindependent of each other. To account for this, we could add subject ID as a\nrandom effect. Lets do this and test the effect of age on cortical thickness\nagain.\n\n"
      ]
    },
    {
      "cell_type": "code",
      "execution_count": null,
      "metadata": {
        "collapsed": false
      },
      "outputs": [],
      "source": [
        "from brainstat.stats.terms import MixedEffect\n\nterm_subject = MixedEffect(demographics.SUB_ID)\n\nmodel_mixed = term_age + term_sex + term_age * term_sex + term_subject\n\nslm_mixed = SLM(\n    model_mixed,\n    -contrast_age,\n    surf=pial_combined,\n    mask=mask,\n    correction=[\"fdr\", \"rft\"],\n    cluster_threshold=0.01,\n    two_tailed=False,\n)\nslm_mixed.fit(thickness)\nplot_slm_results(slm_mixed, True, True)"
      ]
    },
    {
      "cell_type": "markdown",
      "metadata": {},
      "source": [
        "Compared to our first age model, we find fewer and smaller clusters,\nindicating that by not accounting for the repeated measures structure of the\ndata we were overestimating the significance of effects.\n\nThat concludes the basic usage of the BrainStat for statistical models. In the\nnext tutorial we'll show you how to use the context decoding module.\n\n"
      ]
    }
  ],
  "metadata": {
    "kernelspec": {
      "display_name": "Python 3",
      "language": "python",
      "name": "python3"
    },
    "language_info": {
      "codemirror_mode": {
        "name": "ipython",
        "version": 3
      },
      "file_extension": ".py",
      "mimetype": "text/x-python",
      "name": "python",
      "nbconvert_exporter": "python",
      "pygments_lexer": "ipython3",
      "version": "3.9.0"
    }
  },
  "nbformat": 4,
  "nbformat_minor": 0
}