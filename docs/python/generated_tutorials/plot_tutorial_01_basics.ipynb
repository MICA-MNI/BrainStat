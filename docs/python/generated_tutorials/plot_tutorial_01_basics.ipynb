{
  "cells": [
    {
      "cell_type": "code",
      "execution_count": null,
      "metadata": {
        "collapsed": false
      },
      "outputs": [],
      "source": [
        "%matplotlib inline"
      ]
    },
    {
      "cell_type": "markdown",
      "metadata": {},
      "source": [
        "\n# Tutorial 01: Linear Models\nIn this tutorial you will set up your first linear model with BrainStat. \nTo this end, we will load some sample data from the ABIDE dataset. Note that,\ncontrary to the results shown in our manuscript, we are only using a few sites\nto reduce computation time in this tutorial. As such the results shown here\ndiffer from those reported in our manuscript. To get identical results,\nsimply set `sites` to `None`. \n"
      ]
    },
    {
      "cell_type": "code",
      "execution_count": null,
      "metadata": {
        "collapsed": false
      },
      "outputs": [],
      "source": [
        "import numpy as np\n\nfrom brainstat.datasets import fetch_mask, fetch_template_surface\nfrom brainstat.tutorial.utils import fetch_abide_data\n\n# Load behavioral markers\nsites = (\"PITT\", \"OLIN\", \"OHSU\")\nthickness, demographics = fetch_abide_data(sites=sites)\npial_left, pial_right = fetch_template_surface(\"civet41k\", join=False)\npial_combined = fetch_template_surface(\"civet41k\", join=True)\nmask = fetch_mask(\"civet41k\")"
      ]
    },
    {
      "cell_type": "markdown",
      "metadata": {},
      "source": [
        "Lets have a look at the cortical thickness data. To do this,\nwe will use the surface plotter included with BrainSpace. Lets plot\nmean thickness.\n\n"
      ]
    },
    {
      "cell_type": "code",
      "execution_count": null,
      "metadata": {
        "collapsed": false
      },
      "outputs": [],
      "source": [
        "from brainspace.plotting import plot_hemispheres\n\nplot_hemispheres(\n    pial_left,\n    pial_right,\n    np.mean(thickness, axis=0),\n    color_bar=True,\n    color_range=(1.5, 3.5),\n    label_text=[\"Cortical Thickness\"],\n    embed_nb=True,\n    size=(1400, 200),\n    zoom=1.45,\n    cb__labelTextProperty={\"fontSize\": 12},\n)"
      ]
    },
    {
      "cell_type": "markdown",
      "metadata": {},
      "source": [
        "Next, lets see whether cortical thickness is related to age in our sample\ndata. To this end we can create a linear model with BrainStat. First we\ndeclare the behavioral variables as FixedEffects. The FixedEffect class can be\ncreated in two ways: either we provide the data with pandas, as we do here, or\nwe provide a numpy array and a name for the fixed effect. Once, that's done we\ncan create the model by simply adding the terms together. Lets set up a model\nwith age and patient status as fixed effects.\n\n"
      ]
    },
    {
      "cell_type": "code",
      "execution_count": null,
      "metadata": {
        "collapsed": false
      },
      "outputs": [],
      "source": [
        "from brainstat.stats.terms import FixedEffect\n\nterm_age = FixedEffect(demographics.AGE_AT_SCAN)\n# Subtract 1 from DX_GROUP so patient == 0 and healthy == 1.\nterm_patient = FixedEffect(demographics.DX_GROUP - 1)\nmodel = term_age + term_patient"
      ]
    },
    {
      "cell_type": "markdown",
      "metadata": {},
      "source": [
        "As said before, if your data is not in a pandas DataFrame (e.g. numpy), you'll\nhave to provide the name of the effect as an additional parameter as follows:\n\n"
      ]
    },
    {
      "cell_type": "code",
      "execution_count": null,
      "metadata": {
        "collapsed": false
      },
      "outputs": [],
      "source": [
        "term_age_2 = FixedEffect(demographics.AGE_AT_SCAN.to_numpy(), \"AGE_AT_SCAN\")"
      ]
    },
    {
      "cell_type": "markdown",
      "metadata": {},
      "source": [
        "Beside simple fixed effects, we may also be interested in interaction\neffects. We can add these to the model by multiplying terms. Lets\ncreate a model with an interaction between age and patient status.\n\n"
      ]
    },
    {
      "cell_type": "code",
      "execution_count": null,
      "metadata": {
        "collapsed": false
      },
      "outputs": [],
      "source": [
        "model_interaction = term_age + term_patient + term_age * term_patient"
      ]
    },
    {
      "cell_type": "markdown",
      "metadata": {},
      "source": [
        "Lets have a look at one of these models. As you can see below, the model\nis stored in a format closely resembling a pandas DataFrame. Note that an\nintercept is automatically added to the model. This behavior can be disabled\nin the FixedEffect call, but we recommend leaving it enabled.\n\n"
      ]
    },
    {
      "cell_type": "code",
      "execution_count": null,
      "metadata": {
        "collapsed": false
      },
      "outputs": [],
      "source": [
        "print(model)"
      ]
    },
    {
      "cell_type": "markdown",
      "metadata": {},
      "source": [
        "Now, imagine we have some cortical marker (e.g. cortical thickness) for\neach subject, and we want to evaluate whether this marker changes with age\nwhilst correcting for effects of patient status. To do this, we can use\nthe model we defined before, and a contrast in observations (here: age).\nThen we simply initialize an SLM model and fit it to the cortical thickness\ndata.\n\n"
      ]
    },
    {
      "cell_type": "code",
      "execution_count": null,
      "metadata": {
        "collapsed": false
      },
      "outputs": [],
      "source": [
        "from brainstat.stats.SLM import SLM\n\ncontrast_age = model.AGE_AT_SCAN\nslm_age = SLM(\n    model, contrast_age, surf=pial_combined, mask=mask, correction=[\"fdr\", \"rft\"]\n)\nslm_age.fit(thickness)"
      ]
    },
    {
      "cell_type": "markdown",
      "metadata": {},
      "source": [
        "Next, we will plot the t-values and p-values on the surface. We'll do this a\nfew times throughout the tutorial so lets define a function to do this.\n\n"
      ]
    },
    {
      "cell_type": "code",
      "execution_count": null,
      "metadata": {
        "collapsed": false
      },
      "outputs": [],
      "source": [
        "def plot_slm_results(slm):\n    # Plot t-values.\n    plot_hemispheres(\n        pial_left,\n        pial_right,\n        slm.t,\n        label_text=[\"t-values\"],\n        color_bar=True,\n        color_range=(-4, 4),\n        embed_nb=True,\n        cmap=\"bwr\",\n        size=(1400, 200),\n        zoom=1.45,\n        nan_color=(0.7, 0.7, 0.7, 1),\n        cb__labelTextProperty={\"fontSize\": 12},\n    )\n\n    # Plot p-values.\n    pval = slm.P[\"pval\"][\"P\"]\n    pval[pval > 0.05] = np.nan\n    pval[~mask] = np.nan\n    plot_hemispheres(\n        pial_left,\n        pial_right,\n        pval,\n        label_text=[\"p-values (RFT)\"],\n        color_bar=True,\n        color_range=(0, 0.05),\n        embed_nb=True,\n        cmap=\"hot_r\",\n        size=(1400, 200),\n        zoom=1.45,\n        nan_color=(0.7, 0.7, 0.7, 1),\n        cb__labelTextProperty={\"fontSize\": 12},\n    )\n\n    pval = slm.Q\n    pval[pval > 0.05] = np.nan\n    pval[~mask] = np.nan\n    plot_hemispheres(\n        pial_left,\n        pial_right,\n        pval,\n        label_text=[\"p-values (FDR)\"],\n        color_bar=True,\n        color_range=(0, 0.05),\n        embed_nb=True,\n        cmap=\"hot_r\",\n        size=(1400, 200),\n        zoom=1.45,\n        nan_color=(0.7, 0.7, 0.7, 1),\n        cb__labelTextProperty={\"fontSize\": 12},\n    )\n\n\nplot_slm_results(slm_age)"
      ]
    },
    {
      "cell_type": "markdown",
      "metadata": {},
      "source": [
        "BrainStat also allows for assessing significant clusters and peaks. The data\non clusters are stored in tables inside BrainStatModel.P.clus and information\non the peaks is stored in BrainStatModel.P.peak. If a two-tailed test is run\n(BrainStat defaults to two-tailed), a table is returned for each tail. The\nfirst table uses the contrast as provided, the second table uses the inverse\ncontrast. If a one-tailed test is performed, then only a single table is\nreturned. Lets print the inverted contrast cluster table.\n\n\n"
      ]
    },
    {
      "cell_type": "code",
      "execution_count": null,
      "metadata": {
        "collapsed": false
      },
      "outputs": [],
      "source": [
        "print(slm_age.P[\"clus\"][1])"
      ]
    },
    {
      "cell_type": "markdown",
      "metadata": {},
      "source": [
        "Here, we see that cluster 1 contains 8738 vertices and is significant at a\np-value of 7.45e-08. Clusters are sorted by p-value; later clusters will\ngenerally be smaller and have higher p-values. Lets now have a look at the\npeaks within these clusters.\n\n"
      ]
    },
    {
      "cell_type": "code",
      "execution_count": null,
      "metadata": {
        "collapsed": false
      },
      "outputs": [],
      "source": [
        "print(slm_age.P[\"peak\"][1])"
      ]
    },
    {
      "cell_type": "markdown",
      "metadata": {},
      "source": [
        "By default BrainStat uses a two-tailed test. If you want to get a one-tailed\ntest, simply specify it in the SLM model initialization with\n`two_tailed=False`. Note that the one-tailed test will test for positive\nt-values. If you want to test for negative t-values, simply invert the\ncontrast. We may hypothesize based on prior research that cortical thickness\ndecreases with age, so we could specify this as follows:\n\n"
      ]
    },
    {
      "cell_type": "code",
      "execution_count": null,
      "metadata": {
        "collapsed": false
      },
      "outputs": [],
      "source": [
        "# Note the minus in front of contrast_age to test for decreasing thickness with age.\nslm_age_onetailed = SLM(\n    model,\n    -contrast_age,\n    surf=pial_combined,\n    correction=[\"fdr\", \"rft\"],\n    mask=mask,\n    two_tailed=False,\n)\nslm_age_onetailed.fit(thickness)\n\nplot_slm_results(slm_age_onetailed)"
      ]
    },
    {
      "cell_type": "markdown",
      "metadata": {},
      "source": [
        "Similarly, we could perform an analysis to assess cortical thickness\ndifferences across healthy and patient groups whilst correcting for age.\n\n"
      ]
    },
    {
      "cell_type": "code",
      "execution_count": null,
      "metadata": {
        "collapsed": false
      },
      "outputs": [],
      "source": [
        "contrast_patient = model.DX_GROUP\nslm_patient = SLM(\n    model,\n    contrast_patient,\n    surf=pial_combined,\n    mask=mask,\n    correction=[\"fdr\", \"rft\"],\n)\nslm_patient.fit(thickness)\n\nplot_slm_results(slm_patient)"
      ]
    },
    {
      "cell_type": "markdown",
      "metadata": {},
      "source": [
        "It appears we do not find statistically significant results for a relationship\nbetween cortical thickness and patient status.\n\nNow, imagine that instead of using a fixed effects model, you would prefer a\nmixed effects model wherein the scanning site is a random variable. This is\nsimple to set up. All you need to do is initialize the site term with the\nMixedEffect class, all other code remains identical.\n\n"
      ]
    },
    {
      "cell_type": "code",
      "execution_count": null,
      "metadata": {
        "collapsed": false
      },
      "outputs": [],
      "source": [
        "from brainstat.stats.terms import MixedEffect\n\nrandom_site = MixedEffect(demographics.SITE_ID, name_ran=\"Site\")\n\nmodel_random = term_age + term_patient + random_site\nslm_random = SLM(\n    model_random,\n    contrast_age,\n    surf=pial_combined,\n    mask=mask,\n    correction=[\"fdr\", \"rft\"],\n)\nslm_random.fit(thickness)"
      ]
    },
    {
      "cell_type": "markdown",
      "metadata": {},
      "source": [
        "Lets have a closer look at the mixed effect. The variable random_site contains\ntwo important properties: \"mean\", and \"variance\". \"mean\" contains any fixed effects,\nwhereas \"variance\" contains the random effects. As we did not specify any fixed\neffects, the \"mean\" term is empty. The \"variance\" term contains the random effect as\nwell as the identity term, similar to the intercept in FixedEffects. The identity term\nis added by default.\n\n"
      ]
    },
    {
      "cell_type": "code",
      "execution_count": null,
      "metadata": {
        "collapsed": false
      },
      "outputs": [],
      "source": [
        "print(random_site.variance)"
      ]
    }
  ],
  "metadata": {
    "kernelspec": {
      "display_name": "Python 3",
      "language": "python",
      "name": "python3"
    },
    "language_info": {
      "codemirror_mode": {
        "name": "ipython",
        "version": 3
      },
      "file_extension": ".py",
      "mimetype": "text/x-python",
      "name": "python",
      "nbconvert_exporter": "python",
      "pygments_lexer": "ipython3",
      "version": "3.8.10"
    }
  },
  "nbformat": 4,
  "nbformat_minor": 0
}