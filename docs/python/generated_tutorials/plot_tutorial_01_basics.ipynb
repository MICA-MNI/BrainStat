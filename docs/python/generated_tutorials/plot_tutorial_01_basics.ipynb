{
  "cells": [
    {
      "cell_type": "code",
      "execution_count": null,
      "metadata": {
        "collapsed": false
      },
      "outputs": [],
      "source": [
        "%matplotlib inline"
      ]
    },
    {
      "cell_type": "markdown",
      "metadata": {},
      "source": [
        "\n# Tutorial 01: Linear Models\nIn this tutorial you will set up your first linear model with BrainStat. \nTo this end, we will load some sample data from the ABIDE dataset. Note that,\ncontrary to the results shown in our manuscript, we are only using a few sites\nto reduce computation time in this tutorial. As such the results shown here\ndiffer from those reported in our manuscript. To get identical results,\nsimply set `sites` to `None`. \n"
      ]
    },
    {
      "cell_type": "code",
      "execution_count": null,
      "metadata": {
        "collapsed": false
      },
      "outputs": [],
      "source": [
        "import numpy as np\nfrom brainstat.datasets import fetch_template_surface\nfrom brainstat.tutorial.utils import fetch_abide_data, fetch_civet_mask\n\n# Load behavioral markers\nsites = (\"PITT\", \"OLIN\", \"OHSU\")\nthickness, demographics = fetch_abide_data(sites=sites)\npial_left, pial_right = fetch_template_surface(\"civet41k\", join=False)\npial_combined = fetch_template_surface(\"civet41k\", join=True)\nmask = fetch_civet_mask()"
      ]
    },
    {
      "cell_type": "markdown",
      "metadata": {},
      "source": [
        "Lets have a look at the cortical thickness data. To do this,\nwe will use the surface plotter included with BrainSpace. Lets plot\nmean thickness. \n\n"
      ]
    },
    {
      "cell_type": "code",
      "execution_count": null,
      "metadata": {
        "collapsed": false
      },
      "outputs": [],
      "source": [
        "from brainspace.plotting import plot_hemispheres\n\nplot_hemispheres(\n    pial_left,\n    pial_right,\n    np.mean(thickness, axis=0),\n    color_bar=True,\n    color_range=(1.5, 3.5),\n    label_text=[\"Cortical Thickness\"],\n    embed_nb=True,\n    size=(1400, 200),\n    zoom=1.45,\n    cb__labelTextProperty = {'fontSize': 12},\n)"
      ]
    },
    {
      "cell_type": "markdown",
      "metadata": {},
      "source": [
        "Next, lets see whether cortical thickness is related to age in our sample\ndata. To this end we can create a linear model with BrainStat. First we\ndeclare the behavioral variables as FixedEffects. The FixedEffect class can be\ncreated in two ways: either we provide the data with pandas, as we do here, or\nwe provide a numpy array and a name for the fixed effect. Once, that's done we\ncan create the model by simply adding the terms together. Lets set up a model\nwith age and patient status as fixed effects.\n\n"
      ]
    },
    {
      "cell_type": "code",
      "execution_count": null,
      "metadata": {
        "collapsed": false
      },
      "outputs": [],
      "source": [
        "from brainstat.stats.terms import FixedEffect\n\nterm_age = FixedEffect(demographics.AGE_AT_SCAN)\n# Subtract 1 from DX_GROUP so patient == 0 and healthy == 1.\nterm_patient = FixedEffect(demographics.DX_GROUP - 1) \nmodel = term_age + term_patient"
      ]
    },
    {
      "cell_type": "markdown",
      "metadata": {},
      "source": [
        "As said before, if your data is not in a pandas DataFrame (e.g. numpy), you'll\nhave to provide the name of the effect as an additional parameter as follows:\n\n"
      ]
    },
    {
      "cell_type": "code",
      "execution_count": null,
      "metadata": {
        "collapsed": false
      },
      "outputs": [],
      "source": [
        "term_age_2 = FixedEffect(demographics.AGE_AT_SCAN.to_numpy(), \"AGE_AT_SCAN\")"
      ]
    },
    {
      "cell_type": "markdown",
      "metadata": {},
      "source": [
        "Beside simple fixed effects, we may also be interested in interaction\neffects. We can add these to the model by multiplying terms. Lets\ncreate a model with an interaction between age and patient status.\n\n"
      ]
    },
    {
      "cell_type": "code",
      "execution_count": null,
      "metadata": {
        "collapsed": false
      },
      "outputs": [],
      "source": [
        "model_interaction = term_age + term_patient + term_age * term_patient"
      ]
    },
    {
      "cell_type": "markdown",
      "metadata": {},
      "source": [
        "Lets have a look at one of these models. As you can see below, the model\nis stored in a format closely resembling a pandas DataFrame. Note that an\nintercept is automatically added to the model. This behavior can be disabled\nin the FixedEffect call, but we recommend leaving it enabled.\n\n"
      ]
    },
    {
      "cell_type": "code",
      "execution_count": null,
      "metadata": {
        "collapsed": false
      },
      "outputs": [],
      "source": [
        "print(model)"
      ]
    },
    {
      "cell_type": "markdown",
      "metadata": {},
      "source": [
        "Now, imagine we have some cortical marker (e.g. cortical thickness) for\neach subject, and we want to evaluate whether this marker changes with age\nwhilst correcting for effects of patient status. To do this, we can use\nthe model we defined before, and a contrast in observations (here: age).\nThen we simply initialize an SLM model and fit it to the cortical thickness\ndata.\n\n"
      ]
    },
    {
      "cell_type": "code",
      "execution_count": null,
      "metadata": {
        "collapsed": false
      },
      "outputs": [],
      "source": [
        "from brainstat.stats.SLM import SLM\n\ncontrast_age = model.AGE_AT_SCAN\nslm_age = SLM(model, contrast_age, surf=pial_combined, mask = mask, correction=\"rft\")\nslm_age.fit(thickness)\n\nplot_hemispheres(\n    pial_left,\n    pial_right,\n    slm_age.t,\n    label_text=[\"t-values\"],\n    color_bar=True,\n    color_range=(-4, 4),\n    embed_nb=True,\n    size=(1400, 200),\n    zoom=1.45,\n    cb__labelTextProperty = {'fontSize': 12},\n)\nplot_hemispheres(\n    pial_left,\n    pial_right,\n    slm_age.P[\"pval\"][\"P\"],\n    label_text=[\"p-values\"],\n    color_bar=True,\n    color_range=(0, 0.05),\n    embed_nb=True,\n    size=(1400, 200),\n    zoom=1.45,\n    cb__labelTextProperty = {'fontSize': 12},\n)"
      ]
    },
    {
      "cell_type": "markdown",
      "metadata": {},
      "source": [
        "By default BrainStat uses a two-tailed test. If you want to get a one-tailed\ntest, simply specify it in the SLM model initialization with\n`two_tailed=True`. Note that the one-tailed test will test for positive\nt-values. If you want to test for negative t-values, simply invert the\ncontrast. We may hypothesize based on prior research that cortical thickness\ndecreases with age, so we could specify this as follows:\n\n"
      ]
    },
    {
      "cell_type": "code",
      "execution_count": null,
      "metadata": {
        "collapsed": false
      },
      "outputs": [],
      "source": [
        "# Note the minus in front of contrast_age to test for decreasing thickness with age.\nslm_age_onetailed = SLM(\n    model, -contrast_age, surf=pial_combined, correction=\"rft\", mask=mask, two_tailed=False\n)\nslm_age_onetailed.fit(thickness)\n\nplot_hemispheres(\n    pial_left,\n    pial_right,\n    slm_age_onetailed.t,\n    label_text=[\"t-values\"],\n    color_bar=True,\n    color_range=(-4, 4),\n    embed_nb=True,\n    size=(1400, 200),\n    zoom=1.45,\n    cb__labelTextProperty = {'fontSize': 12},\n)\nplot_hemispheres(\n    pial_left,\n    pial_right,\n    slm_age_onetailed.P[\"pval\"][\"P\"],\n    label_text=[\"p-values\"],\n    color_bar=True,\n    color_range=(0, 0.05),\n    embed_nb=True,\n    size=(1400, 200),\n    zoom=1.45,\n    cb__labelTextProperty = {'fontSize': 12},\n)"
      ]
    },
    {
      "cell_type": "markdown",
      "metadata": {},
      "source": [
        "Similarly, we could perform an analysis to assess cortical thickness\ndifferences across healthy and patient groups whilst correcting for age.\n\n"
      ]
    },
    {
      "cell_type": "code",
      "execution_count": null,
      "metadata": {
        "collapsed": false
      },
      "outputs": [],
      "source": [
        "contrast_patient = model.DX_GROUP\nslm_patient = SLM(model, contrast_patient, surf=pial_combined, mask = mask, correction=\"rft\")\nslm_patient.fit(thickness)\n\nplot_hemispheres(\n    pial_left,\n    pial_right,\n    slm_patient.t,\n    label_text=[\"t-values\"],\n    color_bar=True,\n    color_range=(-4, 4),\n    embed_nb=True,\n    size=(1400, 200),\n    zoom=1.45,\n    cb__labelTextProperty = {'fontSize': 12},\n)\nplot_hemispheres(\n    pial_left,\n    pial_right,\n    slm_patient.P[\"pval\"][\"P\"],\n    label_text=[\"p-values\"],\n    color_bar=True,\n    color_range=(0, 0.05),\n    embed_nb=True,\n    size=(1400, 200),\n    zoom=1.45,\n    cb__labelTextProperty = {'fontSize': 12},\n)"
      ]
    },
    {
      "cell_type": "markdown",
      "metadata": {},
      "source": [
        "It appears we do not find statistically significant results for a relationship\nbetween cortical thickness and patient status.\n\nNow, imagine that instead of using a fixed effects model, you would prefer a\nmixed effects model wherein the scanning site is a random variable. This is\nsimple to set up. All you need to do is initialize the site term with the\nMixedEffect class, all other code remains identical. \n\n"
      ]
    },
    {
      "cell_type": "code",
      "execution_count": null,
      "metadata": {
        "collapsed": false
      },
      "outputs": [],
      "source": [
        "from brainstat.stats.terms import MixedEffect\n\nrandom_site = MixedEffect(demographics.SITE_ID, name_ran=\"Site\")\n\nmodel_random = term_age + term_patient + random_site\nslm_random = SLM(model_random, contrast_age, surf=pial_combined, mask = mask, correction=\"rft\")\nslm_random.fit(thickness)"
      ]
    },
    {
      "cell_type": "markdown",
      "metadata": {},
      "source": [
        "Lets have a closer look at the mixed effect. The variable random_site contains\ntwo important properties: \"mean\", and \"variance\". \"mean\" contains any fixed effects,\nwhereas \"variance\" contains the random effects. As we did not specify any fixed\neffects, the \"mean\" term is empty. The \"variance\" term contains the random effect as\nwell as the identity term, similar to the intercept in FixedEffects. The identity term\nis added by default.\n\n"
      ]
    },
    {
      "cell_type": "code",
      "execution_count": null,
      "metadata": {
        "collapsed": false
      },
      "outputs": [],
      "source": [
        "print(random_site.mean)\nprint(random_site.variance)"
      ]
    }
  ],
  "metadata": {
    "kernelspec": {
      "display_name": "Python 3",
      "language": "python",
      "name": "python3"
    },
    "language_info": {
      "codemirror_mode": {
        "name": "ipython",
        "version": 3
      },
      "file_extension": ".py",
      "mimetype": "text/x-python",
      "name": "python",
      "nbconvert_exporter": "python",
      "pygments_lexer": "ipython3",
      "version": "3.9.6"
    }
  },
  "nbformat": 4,
  "nbformat_minor": 0
}