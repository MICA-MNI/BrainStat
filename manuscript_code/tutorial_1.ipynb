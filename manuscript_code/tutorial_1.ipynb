{
 "cells": [
  {
   "cell_type": "code",
   "execution_count": null,
   "source": [
    "from pathlib import Path\n",
    "from typing import Union, Sequence\n",
    "\n",
    "import nibabel as nib\n",
    "import numpy as np\n",
    "import pandas as pd\n",
    "from brainstat.datasets import fetch_template_surface\n",
    "from brainstat.stats.SLM import SLM\n",
    "from brainstat.stats.terms import FixedEffect, MixedEffect"
   ],
   "outputs": [],
   "metadata": {}
  },
  {
   "cell_type": "code",
   "execution_count": null,
   "source": [
    "def load_thickness(\n",
    "    mics_directory: Path, subjects: Union[str, Sequence[str]], space: str = \"fsaverage5\"\n",
    ") -> np.ndarray:\n",
    "    \"\"\"\"\"\"\n",
    "\n",
    "    if isinstance(subjects, str):\n",
    "        subjects = [subjects]\n",
    "\n",
    "    for i in range(len(subjects)):\n",
    "        thickness_dir = (\n",
    "            mics_directory\n",
    "            / \"derivatives\"\n",
    "            / \"micapipe\"\n",
    "            / subjects[i]\n",
    "            / \"ses-01\"\n",
    "            / \"anat\"\n",
    "            / \"surfaces\"\n",
    "            / \"morphology\"\n",
    "        )\n",
    "        thickness_files = [\n",
    "            thickness_dir / f\"{s}_ses-01_space-{space}_desc-{hemi}_thickness_10mm.mgh\"\n",
    "            for hemi in [\"lh\", \"rh\"]\n",
    "        ]\n",
    "        thickness_data = [nib.load(x).get_data() for x in thickness_files]\n",
    "        if i == 0:\n",
    "            thickness = np.zeros(thickness_data[0].shape, len(subjects))\n",
    "        thickness[:, i] = np.concatenate(thickness_data, axis=0)\n",
    "    return thickness    "
   ],
   "outputs": [],
   "metadata": {}
  },
  {
   "cell_type": "code",
   "execution_count": null,
   "source": [
    "mics_directory = Path(\"/data/mica3/BIDS_MICs_release_v1\")\n",
    "micapipe = mics_directory / \"derivatives\" / \"micapipe\"\n",
    "subjects = [x.name for x in micapipe.iterdir() if x.is_dir()]\n",
    "\n",
    "subject_encoding_file = \"/data_/mica3/BIDS_MICs/MICs_rename-equivalence_latest.csv\"\n",
    "subject_encoding = pd.read_csv(subject_encoding_file, sep=',')\n",
    "subject_encoding[\"Original\"] = \"sub-\" + subject_encoding[\"Original\"]\n",
    "\n",
    "cortical_thickness = load_thickness(mics_directory, subjects, space=\"fsaverage5\")\n",
    "indices = [np.argwhere(subject_encoding[\"Original\"] == x) for x in subjects]\n",
    "cortical_thickness = cortical_thickness[:, indices]\n",
    "\n",
    "fsaverage5 = fetch_template_surface(\"fsaverage5\")\n",
    "\n",
    "behavioral_file = \"/data/mica3/BIDS_MICs/MICs_release/rawdata/participants.tsv\"\n",
    "behavioral = pd.read_csv(behavioral_file, sep='\\t')\n",
    "\n",
    "age = FixedEffect(behavioral[\"age\"])\n",
    "sex = FixedEffect(behavioral[\"sex\"])\n",
    "\n",
    "# Simple model\n",
    "model = age + sex\n",
    "slm = SLM(model, -age, surf=fsaverage5, correction=\"rft\")\n",
    "slm.fit(cortical_thickness)\n",
    "\n",
    "# Interaction model\n",
    "model_interaction = age + sex + age * sex\n",
    "slm_interaction = SLM(model_interaction, -age, surf=fsaverage5, correction=\"rft\")\n",
    "slm_interaction.fit(cortical_thickness)\n",
    "\n",
    "# Repeated Measures\n",
    "subject = MixedEffect(SUBJECT_DATA)\n",
    "model_random = age + sex + subject\n",
    "slm_random = SLM(model_random, -age, surf=fsaverage5, correction=\"rft\")\n",
    "slm_random.fit(cortical_thickness)\n"
   ],
   "outputs": [],
   "metadata": {}
  },
  {
   "cell_type": "code",
   "execution_count": null,
   "source": [],
   "outputs": [],
   "metadata": {}
  }
 ],
 "metadata": {
  "orig_nbformat": 4,
  "language_info": {
   "name": "python"
  }
 },
 "nbformat": 4,
 "nbformat_minor": 2
}