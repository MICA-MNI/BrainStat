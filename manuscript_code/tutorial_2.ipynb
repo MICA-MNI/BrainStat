{
 "cells": [
  {
   "cell_type": "code",
   "execution_count": null,
   "source": [
    "from brainstat.context.genetics import surface_genetic_expression\n",
    "from brainstat.datasets import fetch_parcellation\n",
    "\n",
    "schaefer_400 = fetch_parcellation(\"fsaverage5\", \"schaefer\", 400)\n",
    "expression = surface_genetic_expression(schaefer_400)"
   ],
   "outputs": [],
   "metadata": {}
  }
 ],
 "metadata": {
  "orig_nbformat": 4,
  "language_info": {
   "name": "python"
  }
 },
 "nbformat": 4,
 "nbformat_minor": 2
}